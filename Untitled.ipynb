{
 "cells": [
  {
   "cell_type": "code",
   "execution_count": 1,
   "id": "4c5614a5",
   "metadata": {},
   "outputs": [],
   "source": [
    "import feedparser"
   ]
  },
  {
   "cell_type": "code",
   "execution_count": 2,
   "id": "3d4bab16",
   "metadata": {},
   "outputs": [],
   "source": [
    "url = \"https://dart.fss.or.kr/api/todayRSS.xml\"\n",
    "d = feedparser.parse(url)"
   ]
  },
  {
   "cell_type": "code",
   "execution_count": 12,
   "id": "992b1de9",
   "metadata": {},
   "outputs": [],
   "source": [
    "dd = [i for i in d['entries']]"
   ]
  },
  {
   "cell_type": "code",
   "execution_count": 13,
   "id": "b134da01",
   "metadata": {},
   "outputs": [],
   "source": [
    "import xmltodict\n",
    "import json"
   ]
  },
  {
   "cell_type": "code",
   "execution_count": 14,
   "id": "411ffb8d",
   "metadata": {},
   "outputs": [
    {
     "ename": "TypeError",
     "evalue": "a bytes-like object is required, not 'FeedParserDict'",
     "output_type": "error",
     "traceback": [
      "\u001b[1;31m----------------------------------------------------------\u001b[0m",
      "\u001b[1;31mTypeError\u001b[0m                Traceback (most recent call last)",
      "Input \u001b[1;32mIn [14]\u001b[0m, in \u001b[0;36m<cell line: 3>\u001b[1;34m()\u001b[0m\n\u001b[0;32m      1\u001b[0m \u001b[38;5;28;01mimport\u001b[39;00m \u001b[38;5;21;01mpandas\u001b[39;00m \u001b[38;5;28;01mas\u001b[39;00m \u001b[38;5;21;01mpd\u001b[39;00m\n\u001b[1;32m----> 3\u001b[0m \u001b[43mxmltodict\u001b[49m\u001b[38;5;241;43m.\u001b[39;49m\u001b[43mparse\u001b[49m\u001b[43m(\u001b[49m\u001b[43mdd\u001b[49m\u001b[43m[\u001b[49m\u001b[38;5;241;43m0\u001b[39;49m\u001b[43m]\u001b[49m\u001b[43m)\u001b[49m\n",
      "File \u001b[1;32m~\\anaconda3\\lib\\site-packages\\xmltodict.py:378\u001b[0m, in \u001b[0;36mparse\u001b[1;34m(xml_input, encoding, expat, process_namespaces, namespace_separator, disable_entities, process_comments, **kwargs)\u001b[0m\n\u001b[0;32m    376\u001b[0m     parser\u001b[38;5;241m.\u001b[39mParse(\u001b[38;5;124mb\u001b[39m\u001b[38;5;124m'\u001b[39m\u001b[38;5;124m'\u001b[39m,\u001b[38;5;28;01mTrue\u001b[39;00m)\n\u001b[0;32m    377\u001b[0m \u001b[38;5;28;01melse\u001b[39;00m:\n\u001b[1;32m--> 378\u001b[0m     \u001b[43mparser\u001b[49m\u001b[38;5;241;43m.\u001b[39;49m\u001b[43mParse\u001b[49m\u001b[43m(\u001b[49m\u001b[43mxml_input\u001b[49m\u001b[43m,\u001b[49m\u001b[43m \u001b[49m\u001b[38;5;28;43;01mTrue\u001b[39;49;00m\u001b[43m)\u001b[49m\n\u001b[0;32m    379\u001b[0m \u001b[38;5;28;01mreturn\u001b[39;00m handler\u001b[38;5;241m.\u001b[39mitem\n",
      "\u001b[1;31mTypeError\u001b[0m: a bytes-like object is required, not 'FeedParserDict'"
     ]
    }
   ],
   "source": [
    "import pandas as pd\n",
    "\n",
    "xmltodict.parse(dd[0])"
   ]
  },
  {
   "cell_type": "code",
   "execution_count": 17,
   "id": "25765b4c",
   "metadata": {},
   "outputs": [
    {
     "data": {
      "text/plain": [
       "{'type': 'text/plain',\n",
       " 'language': None,\n",
       " 'base': 'https://dart.fss.or.kr/api/todayRSS.xml',\n",
       " 'value': '(코스닥)THE E&M - [기재정정]주요사항보고서(전환사채권발행결정)'}"
      ]
     },
     "execution_count": 17,
     "metadata": {},
     "output_type": "execute_result"
    }
   ],
   "source": [
    "dd[0]['title_detail']"
   ]
  },
  {
   "cell_type": "code",
   "execution_count": 18,
   "id": "8ccf07ac",
   "metadata": {},
   "outputs": [
    {
     "data": {
      "text/plain": [
       "{'title': '(코스닥)THE E&M - [기재정정]주요사항보고서(전환사채권발행결정)',\n",
       " 'title_detail': {'type': 'text/plain',\n",
       "  'language': None,\n",
       "  'base': 'https://dart.fss.or.kr/api/todayRSS.xml',\n",
       "  'value': '(코스닥)THE E&M - [기재정정]주요사항보고서(전환사채권발행결정)'},\n",
       " 'links': [{'rel': 'alternate',\n",
       "   'type': 'text/html',\n",
       "   'href': 'http://dart.fss.or.kr/api/link.jsp?rcpNo=20230508000701'}],\n",
       " 'link': 'http://dart.fss.or.kr/api/link.jsp?rcpNo=20230508000701',\n",
       " 'tags': [{'term': '코스닥', 'scheme': None, 'label': None}],\n",
       " 'published': 'Mon, 08 May 2023 09:26:00 GMT',\n",
       " 'published_parsed': time.struct_time(tm_year=2023, tm_mon=5, tm_mday=8, tm_hour=9, tm_min=26, tm_sec=0, tm_wday=0, tm_yday=128, tm_isdst=0),\n",
       " 'id': 'http://dart.fss.or.kr/api/link.jsp?rcpNo=20230508000701',\n",
       " 'guidislink': False,\n",
       " 'authors': [{'name': 'THE E&M'}],\n",
       " 'author': 'THE E&M',\n",
       " 'author_detail': {'name': 'THE E&M'},\n",
       " 'updated': '2023-05-08T09:26:00Z',\n",
       " 'updated_parsed': time.struct_time(tm_year=2023, tm_mon=5, tm_mday=8, tm_hour=9, tm_min=26, tm_sec=0, tm_wday=0, tm_yday=128, tm_isdst=0)}"
      ]
     },
     "execution_count": 18,
     "metadata": {},
     "output_type": "execute_result"
    }
   ],
   "source": [
    "dd[0]"
   ]
  },
  {
   "cell_type": "code",
   "execution_count": null,
   "id": "760ebc15",
   "metadata": {},
   "outputs": [],
   "source": []
  }
 ],
 "metadata": {
  "kernelspec": {
   "display_name": "Python 3 (ipykernel)",
   "language": "python",
   "name": "python3"
  },
  "language_info": {
   "codemirror_mode": {
    "name": "ipython",
    "version": 3
   },
   "file_extension": ".py",
   "mimetype": "text/x-python",
   "name": "python",
   "nbconvert_exporter": "python",
   "pygments_lexer": "ipython3",
   "version": "3.9.12"
  }
 },
 "nbformat": 4,
 "nbformat_minor": 5
}
